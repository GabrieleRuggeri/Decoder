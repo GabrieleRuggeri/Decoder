{
 "cells": [
  {
   "cell_type": "markdown",
   "id": "679c7015",
   "metadata": {},
   "source": [
    "Tiny Code Challenge 💻\n",
    "\n",
    "Can you try to write a small snippet (in NumPy or PyTorch, whichever you like) that generates this n x n causal mask given a sequence length n?\n",
    "\n",
    "👉 Try it for n=5 and check if you get a lower-triangular matrix."
   ]
  },
  {
   "cell_type": "code",
   "execution_count": 2,
   "id": "51dac73b",
   "metadata": {},
   "outputs": [],
   "source": [
    "import time\n",
    "import torch\n",
    "import torch.nn as nn\n",
    "import torch.optim as optim\n",
    "from torch.utils.data import DataLoader, TensorDataset\n",
    "from torch.nn.functional import one_hot\n",
    "import numpy as np\n",
    "import tiktoken"
   ]
  },
  {
   "cell_type": "markdown",
   "id": "c41bfbc7",
   "metadata": {},
   "source": [
    "general mask"
   ]
  },
  {
   "cell_type": "code",
   "execution_count": 3,
   "id": "9732c242",
   "metadata": {},
   "outputs": [
    {
     "name": "stdout",
     "output_type": "stream",
     "text": [
      "tensor([[1., 0., 0., 0., 0.],\n",
      "        [1., 1., 0., 0., 0.],\n",
      "        [1., 1., 1., 0., 0.],\n",
      "        [1., 1., 1., 1., 0.],\n",
      "        [1., 1., 1., 1., 1.]])\n"
     ]
    }
   ],
   "source": [
    "import torch\n",
    "\n",
    "def build_mask_matrix(n : int = 5) -> torch.Tensor:\n",
    "    \"\"\"\n",
    "    Builds a mask matrix of size n x n where the lower triangular part (including the diagonal) is filled with 1s\n",
    "    and the upper triangular part is filled with 0s.\n",
    "\n",
    "    Args:\n",
    "        n (int): The size of the matrix. Default is 5.\n",
    "\n",
    "    Returns:\n",
    "        torch.Tensor: The resulting mask matrix.\n",
    "    \"\"\"\n",
    "    mask = torch.tril(torch.ones((n, n), dtype=torch.float32), diagonal=0)\n",
    "    return mask\n",
    "\n",
    "print(build_mask_matrix(5))"
   ]
  },
  {
   "cell_type": "markdown",
   "id": "8703bba3",
   "metadata": {},
   "source": [
    "real masking matrix"
   ]
  },
  {
   "cell_type": "code",
   "execution_count": 4,
   "id": "da723d4b",
   "metadata": {},
   "outputs": [
    {
     "name": "stdout",
     "output_type": "stream",
     "text": [
      "tensor([[0., -inf, -inf, -inf, -inf],\n",
      "        [0., 0., -inf, -inf, -inf],\n",
      "        [0., 0., 0., -inf, -inf],\n",
      "        [0., 0., 0., 0., -inf],\n",
      "        [0., 0., 0., 0., 0.]])\n"
     ]
    }
   ],
   "source": [
    "def build_real_mask_matrix(n : int = 5) -> torch.Tensor:\n",
    "    \"\"\"\n",
    "    Builds a real mask matrix of size n x n where the lower triangular part (including the diagonal) is filled with 0s\n",
    "    and the upper triangular part is filled with -inf.\n",
    "\n",
    "    Args:\n",
    "        n (int): The size of the matrix. Default is 5.\n",
    "\n",
    "    Returns:\n",
    "        torch.Tensor: The resulting real mask matrix.\n",
    "    \"\"\"\n",
    "    mask = torch.triu(torch.ones((n, n), dtype=torch.float32) * float('-inf'), diagonal=1)\n",
    "    return mask\n",
    "\n",
    "print(build_real_mask_matrix(5))"
   ]
  },
  {
   "cell_type": "markdown",
   "id": "769f0353",
   "metadata": {},
   "source": [
    "# Residual Layer"
   ]
  },
  {
   "cell_type": "code",
   "execution_count": 5,
   "id": "78604db7",
   "metadata": {},
   "outputs": [],
   "source": [
    "import torch.nn as nn\n",
    "\n",
    "class ResidualLayer(nn.Module):\n",
    "    def __init__(self, module: nn.Module):\n",
    "        super().__init__()\n",
    "        self.module = module\n",
    "\n",
    "    def forward(self, x):\n",
    "        return x + self.module(x)"
   ]
  },
  {
   "cell_type": "markdown",
   "id": "0174e96f",
   "metadata": {},
   "source": [
    "# Layer Normalization"
   ]
  },
  {
   "cell_type": "code",
   "execution_count": 6,
   "id": "22bcb167",
   "metadata": {},
   "outputs": [],
   "source": [
    "import torch.nn.functional as F\n",
    "\n",
    "class LayerNorm(nn.Module):\n",
    "    def __init__(self, normalized_shape, eps=1e-5):\n",
    "        super().__init__()\n",
    "        self.normalized_shape = normalized_shape\n",
    "        self.eps = eps\n",
    "        self.gamma = nn.Parameter(torch.ones(normalized_shape))\n",
    "        self.beta = nn.Parameter(torch.zeros(normalized_shape))\n",
    "\n",
    "    def forward(self, x):\n",
    "        mean = x.mean(dim=-1, keepdim=True)\n",
    "        std = x.std(dim=-1, keepdim=True, unbiased=False)\n",
    "        return self.gamma * (x - mean) / (std + self.eps) + self.beta"
   ]
  },
  {
   "cell_type": "markdown",
   "id": "7b92bf9e",
   "metadata": {},
   "source": [
    "# Linear Layer"
   ]
  },
  {
   "cell_type": "code",
   "execution_count": 7,
   "id": "1647bf5e",
   "metadata": {},
   "outputs": [],
   "source": [
    "class LinearLayer(nn.Module):\n",
    "    def __init__(self, in_features, out_features, bias=True):\n",
    "        super().__init__()\n",
    "        self.linear = nn.Linear(in_features, out_features, bias=bias)\n",
    "\n",
    "    def forward(self, x):\n",
    "        return self.linear(x)\n",
    "    \n",
    "class FeedForward(nn.Module):\n",
    "    def __init__(self, embed_dim, hidden_dim, dropout=0.0):\n",
    "        super().__init__()\n",
    "        self.fc1 = LinearLayer(embed_dim, hidden_dim)\n",
    "        self.act = nn.GELU()\n",
    "        self.drop1 = nn.Dropout(dropout)\n",
    "        self.fc2 = LinearLayer(hidden_dim, embed_dim)\n",
    "        self.drop2 = nn.Dropout(dropout)\n",
    "\n",
    "    def forward(self, x):\n",
    "        x = self.fc1(x)\n",
    "        x = self.act(x)\n",
    "        x = self.drop1(x)\n",
    "        x = self.fc2(x)\n",
    "        x = self.drop2(x)\n",
    "        return x"
   ]
  },
  {
   "cell_type": "markdown",
   "id": "6b1d0f09",
   "metadata": {},
   "source": [
    "# Multi-Headed Masked Attention Layer"
   ]
  },
  {
   "cell_type": "code",
   "execution_count": 8,
   "id": "9c51e252",
   "metadata": {},
   "outputs": [],
   "source": [
    "class MultiHeadedMaskedAttention(nn.Module):\n",
    "    def __init__(self, embed_dim, num_heads):\n",
    "        super().__init__()\n",
    "        self.embed_dim = embed_dim\n",
    "        self.num_heads = num_heads\n",
    "        assert embed_dim % num_heads == 0, \"embed_dim must be divisible by num_heads\"\n",
    "        self.head_dim = embed_dim // num_heads\n",
    "\n",
    "        self.q_proj = nn.Linear(embed_dim, embed_dim)\n",
    "        self.k_proj = nn.Linear(embed_dim, embed_dim)\n",
    "        self.v_proj = nn.Linear(embed_dim, embed_dim)\n",
    "        self.out_proj = nn.Linear(embed_dim, embed_dim)\n",
    "\n",
    "    def forward(self, x, mask=None):\n",
    "        batch_size, seq_len, _ = x.size()\n",
    "\n",
    "        # Project queries, keys, values\n",
    "        q = self.q_proj(x).view(batch_size, seq_len, self.num_heads, self.head_dim).transpose(1, 2)\n",
    "        k = self.k_proj(x).view(batch_size, seq_len, self.num_heads, self.head_dim).transpose(1, 2)\n",
    "        v = self.v_proj(x).view(batch_size, seq_len, self.num_heads, self.head_dim).transpose(1, 2)\n",
    "\n",
    "        # Scaled dot-product attention\n",
    "        attn_scores = torch.matmul(q, k.transpose(-2, -1)) / (self.head_dim ** 0.5)\n",
    "        if mask is not None:\n",
    "            attn_scores = attn_scores + mask.unsqueeze(0).unsqueeze(1)\n",
    "        attn_weights = torch.softmax(attn_scores, dim=-1)\n",
    "        attn_output = torch.matmul(attn_weights, v)\n",
    "\n",
    "        # Concatenate heads and project\n",
    "        attn_output = attn_output.transpose(1, 2).contiguous().view(batch_size, seq_len, self.embed_dim)\n",
    "        return self.out_proj(attn_output)"
   ]
  },
  {
   "cell_type": "markdown",
   "id": "7d0daf8b",
   "metadata": {},
   "source": [
    "# Full Block"
   ]
  },
  {
   "cell_type": "code",
   "execution_count": 9,
   "id": "ba32e65c",
   "metadata": {},
   "outputs": [],
   "source": [
    "class DecoderBlock(nn.Module):\n",
    "    \"\"\"\n",
    "    Pre-Norm GPT-style block using your components:\n",
    "      y = x + Attn(LN(x), causal_mask)\n",
    "      z = x + MLP(LN(y))\n",
    "    \"\"\"\n",
    "    def __init__(self, embed_dim: int, num_heads: int, mlp_ratio: float = 4.0, dropout: float = 0.0):\n",
    "        super().__init__()\n",
    "        self.ln1 = LayerNorm(embed_dim)\n",
    "        self.attn = MultiHeadedMaskedAttention(embed_dim, num_heads)\n",
    "        self.drop_attn = nn.Dropout(dropout)\n",
    "\n",
    "        hidden = int(mlp_ratio * embed_dim)\n",
    "        self.ln2 = LayerNorm(embed_dim)\n",
    "        self.mlp = FeedForward(embed_dim, hidden, dropout=dropout)\n",
    "        # We can use your ResidualLayer cleanly around the MLP path\n",
    "        self.mlp_residual = ResidualLayer(self.mlp)\n",
    "\n",
    "    @staticmethod\n",
    "    def _causal_mask(T: int, device, dtype):\n",
    "        # 0 on allowed (<= i), -inf on forbidden (> i)\n",
    "        mask = torch.full((T, T), float('-inf'), device=device, dtype=dtype)\n",
    "        mask = torch.triu(mask, diagonal=1)  # upper triangle = -inf; diagonal/lower = 0\n",
    "        return mask\n",
    "\n",
    "    def forward(self, x):\n",
    "        # x: [B, T, D]\n",
    "        B, T, D = x.shape\n",
    "        mask = self._causal_mask(T, x.device, x.dtype)  # [T, T]\n",
    "\n",
    "        # Attention block: pre-norm + residual (manual to pass mask)\n",
    "        attn_out = self.attn(self.ln1(x), mask=mask)     # [B, T, D]\n",
    "        x = x + self.drop_attn(attn_out)\n",
    "\n",
    "        # MLP block: pre-norm + residual (via your ResidualLayer)\n",
    "        x = self.mlp_residual(self.ln2(x))               # [B, T, D]\n",
    "        return x"
   ]
  },
  {
   "cell_type": "code",
   "execution_count": 21,
   "id": "d01b0016",
   "metadata": {},
   "outputs": [],
   "source": [
    "# Generate hyperparameters according to common design choices and store them in UPPER case variables\n",
    "EMBED_DIM =128\n",
    "NUM_HEADS = 8\n",
    "MLP_RATIO = 8.0\n",
    "DROPOUT = 0.1\n",
    "tokenizer = tiktoken.get_encoding(\"gpt2\")\n",
    "VOCAB_SIZE = tokenizer.n_vocab\n",
    "\n",
    "BATCH_SIZE = 8\n",
    "SEQ_LEN = 2**10"
   ]
  },
  {
   "cell_type": "code",
   "execution_count": 19,
   "id": "4e5c4ecd",
   "metadata": {},
   "outputs": [],
   "source": [
    "class TransformerDecoder(nn.Module):\n",
    "    def __init__(self, \n",
    "                 num_layers: int,\n",
    "                 embed_dim: int = EMBED_DIM,\n",
    "                 num_heads: int = NUM_HEADS,\n",
    "                 mlp_ratio: float = MLP_RATIO,\n",
    "                 dropout: float = DROPOUT,\n",
    "                 num_embeddings: int = VOCAB_SIZE,\n",
    "                 max_seq_len: int = SEQ_LEN\n",
    "                 ):  # Example vocab size for text models\n",
    "        super().__init__()\n",
    "        \n",
    "        self.token_embedding = nn.Embedding(num_embeddings, embed_dim)\n",
    "        self.position_embedding = nn.Embedding(max_seq_len, embed_dim)\n",
    "\n",
    "        self.dropout = nn.Dropout(dropout)\n",
    "\n",
    "        self.layers = nn.ModuleList([\n",
    "            DecoderBlock(\n",
    "                embed_dim=embed_dim,\n",
    "                num_heads=num_heads,\n",
    "                mlp_ratio=mlp_ratio,\n",
    "                dropout=dropout\n",
    "            ) for _ in range(num_layers)\n",
    "        ])\n",
    "\n",
    "        self._final_layer = nn.Linear(embed_dim, num_embeddings)\n",
    "        \n",
    "        # Layer normalization after final block\n",
    "        self.norm = LayerNorm(embed_dim)\n",
    "        \n",
    "    def forward(self, x):\n",
    "        # x shape: (batch_size, seq_len) - integer token IDs\n",
    "        B, T = x.shape\n",
    "        \n",
    "        # Get token embeddings\n",
    "        tok_emb = self.token_embedding(x)  # (B, T, embed_dim)\n",
    "        \n",
    "        # Get position embeddings\n",
    "        positions = torch.arange(T, device=x.device)  # (T,)\n",
    "        pos_emb = self.position_embedding(positions)  # (T, embed_dim)\n",
    "\n",
    "        # Combine token and position embeddings\n",
    "        x = self.dropout(tok_emb + pos_emb)  # (B, T, embed_dim)\n",
    "\n",
    "        for layer in self.layers:\n",
    "            x = layer(x)\n",
    "            \n",
    "        # Final layer norm\n",
    "        return self._final_layer(self.norm(x))"
   ]
  },
  {
   "cell_type": "markdown",
   "id": "642d98e8",
   "metadata": {},
   "source": [
    "# Mock Training\n",
    "\n",
    "In the following section, given a simple text, we run a mock training.\n",
    "\n",
    "Steps:\n",
    "- generate mock text\n",
    "- tokenize and add positional embeddings\n",
    "- split in batches\n",
    "- construct a model\n",
    "- define train schema\n",
    "- train and measure training time and total loss"
   ]
  },
  {
   "cell_type": "code",
   "execution_count": 12,
   "id": "6aa3bf5b",
   "metadata": {},
   "outputs": [],
   "source": [
    "# read war_and_peace.txt \n",
    "with open(\"war_and_peace.txt\", \"r\", encoding=\"utf-8\") as f:\n",
    "    mock_text = f.read() "
   ]
  },
  {
   "cell_type": "markdown",
   "id": "544c6bb0",
   "metadata": {},
   "source": [
    "### tokenize text"
   ]
  },
  {
   "cell_type": "code",
   "execution_count": 47,
   "id": "04b6bc89",
   "metadata": {},
   "outputs": [
    {
     "name": "stdout",
     "output_type": "stream",
     "text": [
      "Created 404 sequences of length 1024\n"
     ]
    }
   ],
   "source": [
    "# Tokenize text\n",
    "l = len(mock_text)\n",
    "l = int(.5 * l)\n",
    "tokenized_text = tokenizer.encode(mock_text[l:])  # Limit to first 10,000 characters for speed\n",
    "vocab_size = VOCAB_SIZE\n",
    "\n",
    "# Chunk tokens into sequences of SEQ_LEN\n",
    "def create_sequences(tokens, seq_len = SEQ_LEN):\n",
    "    sequences = []\n",
    "    for i in range(0, len(tokens) - seq_len, seq_len):\n",
    "        seq = tokens[i:i + seq_len + 1]  # +1 for target\n",
    "        sequences.append(seq)\n",
    "    return sequences\n",
    "\n",
    "sequences = create_sequences(tokenized_text, SEQ_LEN)\n",
    "print(f\"Created {len(sequences)} sequences of length {SEQ_LEN}\")"
   ]
  },
  {
   "cell_type": "markdown",
   "id": "4c3f3345",
   "metadata": {},
   "source": [
    "### prepare dataset"
   ]
  },
  {
   "cell_type": "code",
   "execution_count": 48,
   "id": "eff9af9a",
   "metadata": {},
   "outputs": [
    {
     "name": "stdout",
     "output_type": "stream",
     "text": [
      "Input shape: torch.Size([404, 1024])\n",
      "Target shape: torch.Size([404, 1024])\n"
     ]
    }
   ],
   "source": [
    "# Create input-target pairs\n",
    "inputs = []\n",
    "targets = []\n",
    "for seq in sequences:\n",
    "    inputs.append(seq[:-1])   # All but last token\n",
    "    targets.append(seq[1:])   # All but first token\n",
    "\n",
    "# Convert to tensors\n",
    "inputs = torch.tensor(inputs, dtype=torch.long)   # (num_sequences, SEQ_LEN)\n",
    "targets = torch.tensor(targets, dtype=torch.long) # (num_sequences, SEQ_LEN)\n",
    "\n",
    "print(f\"Input shape: {inputs.shape}\")\n",
    "print(f\"Target shape: {targets.shape}\")\n",
    "\n",
    "dataset = TensorDataset(inputs, targets)\n",
    "dataloader = DataLoader(dataset, batch_size=BATCH_SIZE, shuffle=True)"
   ]
  },
  {
   "cell_type": "markdown",
   "id": "37c7d4da",
   "metadata": {},
   "source": [
    "### prepare model"
   ]
  },
  {
   "cell_type": "code",
   "execution_count": 24,
   "id": "56130cd4",
   "metadata": {},
   "outputs": [],
   "source": [
    "# Construct model\n",
    "model = TransformerDecoder(\n",
    "    num_layers=1,\n",
    "    max_seq_len=SEQ_LEN\n",
    ")\n",
    "criterion = nn.CrossEntropyLoss()\n",
    "# optimizer = optim.Adam(model.parameters(), lr=0.001)\n",
    "optimizer = optim.AdamW(model.parameters(), lr=0.001, weight_decay=0.01)"
   ]
  },
  {
   "cell_type": "code",
   "execution_count": 30,
   "id": "b1a77576",
   "metadata": {},
   "outputs": [
    {
     "data": {
      "text/plain": [
       "TransformerDecoder(\n",
       "  (token_embedding): Embedding(50257, 128)\n",
       "  (position_embedding): Embedding(1024, 128)\n",
       "  (dropout): Dropout(p=0.1, inplace=False)\n",
       "  (layers): ModuleList(\n",
       "    (0): DecoderBlock(\n",
       "      (ln1): LayerNorm()\n",
       "      (attn): MultiHeadedMaskedAttention(\n",
       "        (q_proj): Linear(in_features=128, out_features=128, bias=True)\n",
       "        (k_proj): Linear(in_features=128, out_features=128, bias=True)\n",
       "        (v_proj): Linear(in_features=128, out_features=128, bias=True)\n",
       "        (out_proj): Linear(in_features=128, out_features=128, bias=True)\n",
       "      )\n",
       "      (drop_attn): Dropout(p=0.1, inplace=False)\n",
       "      (ln2): LayerNorm()\n",
       "      (mlp): FeedForward(\n",
       "        (fc1): LinearLayer(\n",
       "          (linear): Linear(in_features=128, out_features=1024, bias=True)\n",
       "        )\n",
       "        (act): GELU(approximate='none')\n",
       "        (drop1): Dropout(p=0.1, inplace=False)\n",
       "        (fc2): LinearLayer(\n",
       "          (linear): Linear(in_features=1024, out_features=128, bias=True)\n",
       "        )\n",
       "        (drop2): Dropout(p=0.1, inplace=False)\n",
       "      )\n",
       "      (mlp_residual): ResidualLayer(\n",
       "        (module): FeedForward(\n",
       "          (fc1): LinearLayer(\n",
       "            (linear): Linear(in_features=128, out_features=1024, bias=True)\n",
       "          )\n",
       "          (act): GELU(approximate='none')\n",
       "          (drop1): Dropout(p=0.1, inplace=False)\n",
       "          (fc2): LinearLayer(\n",
       "            (linear): Linear(in_features=1024, out_features=128, bias=True)\n",
       "          )\n",
       "          (drop2): Dropout(p=0.1, inplace=False)\n",
       "        )\n",
       "      )\n",
       "    )\n",
       "  )\n",
       "  (_final_layer): Linear(in_features=128, out_features=50257, bias=True)\n",
       "  (norm): LayerNorm()\n",
       ")"
      ]
     },
     "execution_count": 30,
     "metadata": {},
     "output_type": "execute_result"
    }
   ],
   "source": [
    "model"
   ]
  },
  {
   "cell_type": "markdown",
   "id": "fea4b663",
   "metadata": {},
   "source": [
    "### Define train function"
   ]
  },
  {
   "cell_type": "code",
   "execution_count": 31,
   "id": "65404082",
   "metadata": {},
   "outputs": [],
   "source": [
    "def train_model(model, dataloader, criterion, optimizer, epochs=1):\n",
    "    model.train()\n",
    "    total_loss = 0\n",
    "    start_time = time.time()\n",
    "    loss_by_epoch = []\n",
    "    \n",
    "    for epoch in range(epochs):\n",
    "        epoch_loss = 0\n",
    "        for batch_data, batch_labels in dataloader:\n",
    "            # batch_data shape: (batch_size, seq_len)\n",
    "            # batch_labels shape: (batch_size, seq_len)\n",
    "            \n",
    "            optimizer.zero_grad()\n",
    "            \n",
    "            # Forward pass - model handles embedding internally\n",
    "            outputs = model(batch_data)  # (batch_size, seq_len, vocab_size)\n",
    "            \n",
    "            # Reshape for CrossEntropyLoss\n",
    "            # outputs: (batch_size * seq_len, vocab_size)\n",
    "            # labels: (batch_size * seq_len,)\n",
    "            loss = criterion(\n",
    "                outputs.view(-1, vocab_size),  # Use vocab_size instead of outputs.size(-1)\n",
    "                batch_labels.view(-1)\n",
    "            )\n",
    "            \n",
    "            loss.backward()\n",
    "            optimizer.step()\n",
    "            \n",
    "            epoch_loss += loss.item()\n",
    "        \n",
    "        loss_by_epoch.append(epoch_loss)\n",
    "        total_loss += epoch_loss\n",
    "        print(f\"Epoch {epoch+1}/{epochs}, Loss: {epoch_loss:.4f}\")\n",
    "    \n",
    "    end_time = time.time()\n",
    "    print(f\"Training completed in {end_time - start_time:.2f} seconds\")\n",
    "    print(f\"Average Loss: {total_loss/epochs:.4f}\")\n",
    "    return loss_by_epoch"
   ]
  },
  {
   "cell_type": "code",
   "execution_count": null,
   "id": "3c1a6e23",
   "metadata": {},
   "outputs": [
    {
     "name": "stdout",
     "output_type": "stream",
     "text": [
      "Epoch 1/10, Loss: 273.6794\n"
     ]
    }
   ],
   "source": [
    "# Train the model\n",
    "loss = train_model(model, dataloader, criterion, optimizer, epochs=10)\n",
    "print(loss)"
   ]
  },
  {
   "cell_type": "code",
   "execution_count": 44,
   "id": "93523742",
   "metadata": {},
   "outputs": [
    {
     "name": "stderr",
     "output_type": "stream",
     "text": [
      "Matplotlib is building the font cache; this may take a moment.\n"
     ]
    },
    {
     "data": {
      "text/plain": [
       "[<matplotlib.lines.Line2D at 0x2783e79e6d0>]"
      ]
     },
     "execution_count": 44,
     "metadata": {},
     "output_type": "execute_result"
    },
    {
     "data": {
      "image/png": "[encoded data removed]",
      "text/plain": [
       "<Figure size 640x480 with 1 Axes>"
      ]
     },
     "metadata": {},
     "output_type": "display_data"
    }
   ],
   "source": [
    "import matplotlib.pyplot as plt\n",
    "\n",
    "plt.plot(loss)"
   ]
  },
  {
   "cell_type": "code",
   "execution_count": 45,
   "id": "a4d7fe52",
   "metadata": {},
   "outputs": [],
   "source": [
    "def predict_next_word(sentence: str):\n",
    "    \"\"\"\n",
    "    Generates up to SEQ_LEN additional tokens for `sentence`.\n",
    "    Truncates input to the model's position embedding max length to avoid index errors.\n",
    "    \"\"\"\n",
    "    # Determine model device and max positional length\n",
    "    device = next(model.parameters()).device\n",
    "    max_pos = model.position_embedding.num_embeddings  # maximum supported sequence length\n",
    "\n",
    "    for _ in range(SEQ_LEN):\n",
    "        tokens = tokenizer.encode(sentence)\n",
    "        if len(tokens) == 0:\n",
    "            return sentence\n",
    "\n",
    "        # Truncate to last max_pos tokens (keep most recent context)\n",
    "        if len(tokens) > max_pos:\n",
    "            tokens = tokens[-max_pos:]\n",
    "\n",
    "        encoded_text = torch.tensor(tokens, dtype=torch.long, device=device).unsqueeze(0)  # (1, T)\n",
    "\n",
    "        with torch.no_grad():\n",
    "            output = model(encoded_text)  # (1, T, vocab_size)\n",
    "\n",
    "        next_token_logits = output[0, -1, :]  # logits for last position\n",
    "        next_token_id = int(torch.argmax(next_token_logits).item())\n",
    "\n",
    "        # If tokenizer defines an EOT token id, stop generation\n",
    "        eot_id = getattr(tokenizer, \"eot_token\", None)\n",
    "        if eot_id is not None and next_token_id == eot_id:\n",
    "            return sentence\n",
    "\n",
    "        # Append decoded token (tokenizer.decode usually returns proper spacing)\n",
    "        sentence += tokenizer.decode([next_token_id])\n",
    "\n",
    "    return sentence\n"
   ]
  },
  {
   "cell_type": "code",
   "execution_count": 46,
   "id": "a0dca465",
   "metadata": {},
   "outputs": [
    {
     "name": "stdout",
     "output_type": "stream",
     "text": [
      "War and Peace has a number of chapters equals to\n",
      "\n",
      "\n",
      "\n",
      "\n",
      "the\n",
      "\n",
      "\n",
      "\n",
      "                                                                                                                                                                                                                                                                                                                                                                                                                                                                                                                                                                                                                                                                                                                                                                                                                                                                                                                                                                                                                                                       \n"
     ]
    }
   ],
   "source": [
    "sentence = \"War and Peace has a number of chapters equals to\"\n",
    "result = predict_next_word(sentence)\n",
    "print(result)"
   ]
  }
 ],
 "metadata": {
  "kernelspec": {
   "display_name": "Python 3",
   "language": "python",
   "name": "python3"
  },
  "language_info": {
   "codemirror_mode": {
    "name": "ipython",
    "version": 3
   },
   "file_extension": ".py",
   "mimetype": "text/x-python",
   "name": "python",
   "nbconvert_exporter": "python",
   "pygments_lexer": "ipython3",
   "version": "3.11.0"
  }
 },
 "nbformat": 4,
 "nbformat_minor": 5
}
